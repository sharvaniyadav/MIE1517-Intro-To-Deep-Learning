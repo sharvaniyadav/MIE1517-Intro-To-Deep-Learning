{
  "cells": [
    {
      "cell_type": "markdown",
      "metadata": {
        "id": "view-in-github",
        "colab_type": "text"
      },
      "source": [
        "<a href=\"https://colab.research.google.com/github/sharvaniyadav/MIE1517-Intro-To-Deep-Learning/blob/main/%5BMIE1517%5D_A2_Sharvani_Yadav.ipynb\" target=\"_parent\"><img src=\"https://colab.research.google.com/assets/colab-badge.svg\" alt=\"Open In Colab\"/></a>"
      ]
    },
    {
      "cell_type": "markdown",
      "metadata": {
        "id": "X6WDvajSqIDs"
      },
      "source": [
        "# Assignment 2: Hand Gesture Recognition [50 Pt]\n",
        "\n",
        "This assignment will be completed in two parts. In Part A you will gain experience gathering your own data set (specifically images of hand gestures), and understand the challenges involved in the data cleaning process. In Part B you will train a convolutional neural network to make classifications on different hand gestures. By the end of this assignment, you should be able to:\n",
        "\n",
        "1. Generate and preprocess your own data\n",
        "2. Load and split data for training, validation and testing\n",
        "3. Train a Convolutional Neural Network\n",
        "4. Apply transfer learning to improve your model\n",
        "\n",
        "Note that for this assignment we will not be providing you with any starter code. You should be able to take the sample code provided in the preparation sample code, previous assignment, and lectures and modify it accordingly to complete the tasks outlined below.\n",
        "\n",
        "*This assignment is based on an assignment developed by Prof. Lisa Zhang.*\n",
        "\n",
        "### What to submit\n",
        "\n",
        "**Submission for Part A:**  \n",
        "Submit a zip file containing your images. Three images each of American Sign Language gestures for letters A - I (total of 27 images). You will be required to clean the images before submitting them. Details are provided under Part A of the handout.\n",
        "\n",
        "Individual image file names should follow the convention of student-number_Alphabet_file-number.jpg\n",
        "(e.g. 100343434_A_1.jpg).\n",
        "\n",
        "\n",
        "**Submission for Part B:**  \n",
        "Submit an HTML file containing all your code, outputs, and write-up\n",
        "from parts A and B. You can produce a HTML file directly from Google Colab. The Colab instructions are provided at the end of this document.\n",
        "\n",
        "**Do not submit any other files produced by your code.**\n",
        "\n",
        "Include a link to your colab file in your submission.\n",
        "\n",
        "Please use Google Colab to complete this assignment. If you want to use Jupyter Notebook, please complete the assignment and upload your Jupyter Notebook file to Google Colab for submission."
      ]
    },
    {
      "cell_type": "markdown",
      "metadata": {
        "id": "LfiFE_WOqIDu"
      },
      "source": [
        "## Colab Link\n",
        "\n",
        "Include a link to your colab file here and ensure the file can be accessed by the our teaching team.\n"
      ]
    },
    {
      "cell_type": "code",
      "execution_count": null,
      "metadata": {
        "id": "TeX7gWbmMdqh"
      },
      "outputs": [],
      "source": [
        "# TO BE COMPLETED\n",
        "\n",
        "http://"
      ]
    },
    {
      "cell_type": "markdown",
      "metadata": {
        "id": "kvTXpH_kqIDy"
      },
      "source": [
        "# Part A. Data Collection [5pt]\n",
        "\n",
        "So far, we have worked with data sets that have been collected, cleaned, and curated by machine learning\n",
        "researchers and practitioners. Datasets like MNIST and CIFAR are often used as toy examples, both by\n",
        "students and by researchers testing new machine learning models.\n",
        "\n",
        "In the real world, getting a clean data set is never that easy. More than half the work in applying machine\n",
        "learning is finding, gathering, cleaning, and formatting your data set.\n",
        "\n",
        "The purpose of this assignment is to help you gain experience gathering your own data set, and understand the\n",
        "challenges involved in the data cleaning process.\n",
        "\n",
        "### American Sign Language\n",
        "\n",
        "American Sign Language (ASL) is a complete, complex language that employs signs made by moving the\n",
        "hands combined with facial expressions and postures of the body. It is the primary language of many\n",
        "North Americans who are deaf and is one of several communication options used by people who are deaf or\n",
        "hard-of-hearing.\n",
        "\n",
        "The hand gestures representing English alphabet are shown below. This assignment focuses on classifying a subset\n",
        "of these hand gesture images using convolutional neural networks. Specifically, given an image of a hand\n",
        "showing one of the letters A-I, we want to detect which letter is being represented.\n",
        "\n",
        "![alt text](https://www.disabled-world.com/pics/1/asl-alphabet.jpg)\n",
        "\n",
        "\n",
        "### Generating Data\n",
        "We will produce the images required to assess our models by ourselves. You are required to collect, clean and submit\n",
        "three images each of Americal Sign Language gestures for letters A - I (total of 27 images)\n",
        "Steps involved in data collection\n",
        "\n",
        "1. Familiarize yourself with American Sign Language gestures for letters from A - I (9 letters).\n",
        "2. Take three pictures at slightly different orientation for each letter gesture using your\n",
        "mobile phone.\n",
        " - Ensure adequate lighting while you are capturing the images.\n",
        " - Use a white wall as your background.\n",
        " - Use your right hand to create gestures (for consistency).\n",
        " - Keep your right hand fairly apart from your body and any other obstructions.\n",
        " - Avoid having shadows on parts of your hand.\n",
        "3. Transfer the images to your laptop for cleaning.\n",
        "\n",
        "### Cleaning Data\n",
        "To simplify the machine learning the task, we will standardize the training images. We will make sure that\n",
        "all our images are of the same size (224 x 224 pixels RGB), and have the hand in the center of the cropped\n",
        "regions.\n",
        "\n",
        "You may use the following applications to crop and resize your images:\n",
        "\n",
        "**Mac**\n",
        "- Use Preview:\n",
        "– Holding down CMD + Shift will keep a square aspect ratio while selecting the hand area.\n",
        "– Resize to 224x224 pixels.\n",
        "\n",
        "**Windows 10**\n",
        "- Use Photos app to edit and crop the image and keep the aspect ratio a square.\n",
        "- Use Paint to resize the image to the final image size of 224x224 pixels.\n",
        "\n",
        "**Linux**\n",
        "- You can use GIMP, imagemagick, or other tools of your choosing.\n",
        "You may also use online tools such as http://picresize.com\n",
        "All the above steps are illustrative only. You need not follow these steps but following these will ensure that\n",
        "you produce a good quality dataset. You will be judged based on the quality of the images alone.\n",
        "Please do not edit your photos in any other way. You should not need to change the aspect ratio of your\n",
        "image. You also should not digitally remove the background or shadows—instead, take photos with a white\n",
        "background and minimal shadows.\n",
        "\n",
        "### Accepted Images\n",
        "Images will be accepted and graded based on the criteria below\n",
        "1. The final image should be size 224x224 pixels (RGB).\n",
        "2. The file format should be a .jpg file.\n",
        "3. The hand should be approximately centered on the frame.\n",
        "4. The hand should not be obscured or cut off.\n",
        "5. The photos follows the ASL gestures posted earlier.\n",
        "6. The photos were not edited in any other way (e.g. no electronic removal of shadows or background).\n",
        "\n",
        "### Submission\n",
        "Submit a zip file containing your images. There should be a total of 27 images (3 for each category)\n",
        "1. Individual image file names should follow the convention of student-number_Alphabet_file-number.jpg\n",
        "(e.g. 100343434_A_1.jpg)\n",
        "2. Zip all the images together and name it with the following convention: last-name_student-number.zip\n",
        "(e.g. last-name_100343434.zip).\n",
        "3. Submit the zipped folder.\n",
        "\n",
        "![alt text](https://github.com/UTNeural/APS360/blob/master/Gesture%20Images.PNG?raw=true)"
      ]
    },
    {
      "cell_type": "markdown",
      "metadata": {
        "id": "bJxMgWGNqID2"
      },
      "source": [
        "# Part B. Building a CNN [45pt]\n",
        "\n",
        "For this assignment, we are not going to give you any starter code. You will be writing a convolutional neural network\n",
        "from scratch. You are welcome to modify and combine code provided previously in the course (assignments, preparation code, lectures, etc.). You can also write your own code.\n",
        "\n",
        "You may use the PyTorch documentation freely. You might also find online tutorials helpful. However, all code that you submit must be be your own. You cannot take a completed assignment and claim it as your own.\n",
        "\n",
        "Make sure that your code is vectorized, and does not contain obvious inefficiencies (for example, unecessary\n",
        "for loops, or unnecessary calls to unsqueeze()). Ensure enough comments are included in the code so that\n",
        "your TA can understand what you are doing. It is your responsibility to show that you understand what you\n",
        "write.\n",
        "\n",
        "**This is much more challenging and time-consuming than the previous assignments.** Make sure that you give yourself plenty of time by starting early."
      ]
    },
    {
      "cell_type": "markdown",
      "metadata": {
        "id": "MiDuQaAh56sT"
      },
      "source": [
        "## Part 1. Data Loading and Splitting [3pt EXPLORATORY]\n",
        "\n",
        "Download the anonymized data provided on Quercus. Split the data into training, validation, and test sets.\n",
        "\n",
        "Note: Data splitting is not as trivial in this assignment. We want our test set to closely resemble the setting in which\n",
        "our model will be used. In particular, our test set should contain hands that are never seen in training!\n",
        "\n",
        "Explain how you split the data, either by describing what you did, or by showing the code that you used.\n",
        "Justify your choice of splitting strategy. How many training, validation, and test images do you have?\n",
        "\n",
        "For loading the data, you can use plt.imread, or any other method that you choose. You may find\n",
        "torchvision.datasets.ImageFolder helpful. (see https://pytorch.org/vision/main/generated/torchvision.datasets.ImageFolder.html)\n",
        ")"
      ]
    },
    {
      "cell_type": "code",
      "source": [
        "# Part B.1 — Data Loading and Subject-Based Splitting\n",
        "# In this section, the dataset was unzipped, loaded, split by subject into train/val/test (70/15/15),\n",
        "# the class counts were shown, the split was saved, DataLoaders were created, and a quick check was done for overlap.\n",
        "\n",
        "# Step 1: Importing Necessary Libraries\n",
        "# These libraries were used for file handling, data loading, transforms, and splitting by subject.\n",
        "import os, json, random, collections, zipfile\n",
        "from pathlib import Path\n",
        "\n",
        "import numpy as np\n",
        "import torch\n",
        "from torch.utils.data import Subset, DataLoader\n",
        "from torchvision import datasets, transforms\n",
        "from sklearn.model_selection import GroupShuffleSplit\n",
        "\n",
        "# Step 2: Unzipping the Dataset and Setting the Root Path\n",
        "# The dataset zip file was already in the Colab environment.\n",
        "# It was unzipped into /content if it wasn’t already, and the root path was set.\n",
        "zip_path = \"/content/A2_Hand_Gesture_Dataset_revised.zip\"\n",
        "unzip_root = \"/content\"\n",
        "\n",
        "if not os.path.exists(os.path.join(unzip_root, \"Lab_3b_Gesture_Dataset Revised\")):\n",
        "    with zipfile.ZipFile(zip_path, 'r') as zf:\n",
        "        zf.extractall(unzip_root)\n",
        "    print(\"[INFO] Dataset unzipped.\")\n",
        "else:\n",
        "    print(\"[INFO] Dataset already unzipped.\")\n",
        "\n",
        "DATA_ROOT = \"/content/Lab_3b_Gesture_Dataset Revised\"\n",
        "print(f\"[INFO] DATA_ROOT = {DATA_ROOT}\")\n",
        "\n",
        "# Step 3: Setting Random Seeds and Defining Transforms\n",
        "# Fixed seeds were set to make sure the split is always the same.\n",
        "# A simple transform was used to resize images and convert them to tensors.\n",
        "seed = 42\n",
        "random.seed(seed)\n",
        "np.random.seed(seed)\n",
        "torch.manual_seed(seed)\n",
        "\n",
        "transform = transforms.Compose([\n",
        "    transforms.Resize((224, 224)),\n",
        "    transforms.ToTensor(),\n",
        "])\n",
        "\n",
        "# Step 4: Loading the Dataset\n",
        "# The dataset had folders for each class (A–I).\n",
        "# ImageFolder assigned labels based on these folders.\n",
        "full_ds = datasets.ImageFolder(root=DATA_ROOT, transform=transform)\n",
        "class_names = full_ds.classes\n",
        "print(\"[INFO] Classes:\", class_names)\n",
        "print(\"[INFO] Total Images:\", len(full_ds))\n",
        "\n",
        "# Step 5: Extracting Subject IDs\n",
        "# Each filename had a subject ID at the start, before the first underscore.\n",
        "# These IDs were used to split the data by subject.\n",
        "def get_subject_id(path_str):\n",
        "    stem = Path(path_str).stem\n",
        "    return stem.split(\"_\")[0].lower()\n",
        "\n",
        "subjects = [get_subject_id(fp) for fp, _ in full_ds.samples]\n",
        "unique_subjects = sorted(set(subjects))\n",
        "print(f\"[INFO] Number of Unique Subjects: {len(unique_subjects)}\")\n",
        "\n",
        "# Step 6: Splitting the Dataset by Subject (70/15/15)\n",
        "# GroupShuffleSplit was used so that all images from one subject stay in the same set.\n",
        "# 15% of subjects were used for test, and the rest were split into train and val.\n",
        "idx_all = np.arange(len(full_ds))\n",
        "groups = np.array(subjects)\n",
        "\n",
        "# Test split\n",
        "gss1 = GroupShuffleSplit(n_splits=1, test_size=0.15, random_state=seed)\n",
        "trainval_idx, test_idx = next(gss1.split(idx_all, groups=groups))\n",
        "\n",
        "# Validation split\n",
        "val_rel = 0.15 / (1 - 0.15)\n",
        "gss2 = GroupShuffleSplit(n_splits=1, test_size=val_rel, random_state=seed)\n",
        "train_idx_rel, val_idx_rel = next(gss2.split(trainval_idx, groups=groups[trainval_idx]))\n",
        "\n",
        "train_idx = trainval_idx[train_idx_rel]\n",
        "val_idx = trainval_idx[val_idx_rel]\n",
        "\n",
        "print(f\"[INFO] Split Sizes -> Train: {len(train_idx)} | Val: {len(val_idx)} | Test: {len(test_idx)}\")\n",
        "\n",
        "# Step 7: Showing Class Counts and Saving the Split\n",
        "# The number of images per class was printed for each split.\n",
        "# The split indices were saved to a JSON file to reuse later.\n",
        "def counts_by_class(ds, idxs):\n",
        "    counter = collections.Counter(int(ds[i][1]) for i in idxs)\n",
        "    return {ds.classes[k]: counter.get(k, 0) for k in range(len(ds.classes))}\n",
        "\n",
        "def summarize(name, idxs):\n",
        "    print(f\"\\n[{name.upper()}] Total Images: {len(idxs)}\")\n",
        "    counts = counts_by_class(full_ds, idxs)\n",
        "    for c in full_ds.classes:\n",
        "        print(f\"  {c}: {counts[c]}\")\n",
        "    return counts\n",
        "\n",
        "train_counts = summarize(\"train\", train_idx)\n",
        "val_counts = summarize(\"val\", val_idx)\n",
        "test_counts = summarize(\"test\", test_idx)\n",
        "\n",
        "split_file = \"/content/subject_disjoint_split.json\"\n",
        "with open(split_file, \"w\") as f:\n",
        "    json.dump({\n",
        "        \"classes\": class_names,\n",
        "        \"train_idx\": train_idx.tolist(),\n",
        "        \"val_idx\": val_idx.tolist(),\n",
        "        \"test_idx\": test_idx.tolist(),\n",
        "        \"seed\": seed\n",
        "    }, f, indent=2)\n",
        "print(f\"\\n[INFO] Split saved to {split_file}\")\n",
        "\n",
        "# Step 8: Creating Subsets and DataLoaders\n",
        "# Subsets were made for each split, and DataLoaders were created to load data during training.\n",
        "train_ds = Subset(full_ds, train_idx)\n",
        "val_ds = Subset(full_ds, val_idx)\n",
        "test_ds = Subset(full_ds, test_idx)\n",
        "\n",
        "def make_loader(ds, bs=32, shuffle=False, nw=2):\n",
        "    return DataLoader(ds, batch_size=bs, shuffle=shuffle, num_workers=nw, pin_memory=True)\n",
        "\n",
        "batch_size = 32\n",
        "train_loader = make_loader(train_ds, bs=batch_size, shuffle=True)\n",
        "val_loader = make_loader(val_ds, bs=batch_size)\n",
        "test_loader = make_loader(test_ds, bs=batch_size)\n",
        "print(\"[INFO] DataLoaders Ready.\")\n",
        "\n",
        "# Step 9: Checking for Subject Overlap\n",
        "# A quick check was done to make sure subjects don’t appear in more than one split.\n",
        "def subject_set(subset):\n",
        "    return set(get_subject_id(full_ds.samples[i][0]) for i in subset.indices)\n",
        "\n",
        "subj_train = subject_set(train_ds)\n",
        "subj_val = subject_set(val_ds)\n",
        "subj_test = subject_set(test_ds)\n",
        "\n",
        "print(f\"[CHECK] Train ∩ Val = {len(subj_train & subj_val)}\")\n",
        "print(f\"[CHECK] Train ∩ Test = {len(subj_train & subj_test)}\")\n",
        "print(f\"[CHECK] Val ∩ Test = {len(subj_val & subj_test)}\")"
      ],
      "metadata": {
        "colab": {
          "base_uri": "https://localhost:8080/"
        },
        "id": "A3ms6I22T6Ss",
        "outputId": "c32870b2-8ee1-48f3-f8d7-62bd236f2611"
      },
      "execution_count": 2,
      "outputs": [
        {
          "output_type": "stream",
          "name": "stdout",
          "text": [
            "[INFO] Dataset unzipped.\n",
            "[INFO] DATA_ROOT = /content/Lab_3b_Gesture_Dataset Revised\n",
            "[INFO] Classes: ['A', 'B', 'C', 'D', 'E', 'F', 'G', 'H', 'I']\n",
            "[INFO] Total Images: 2432\n",
            "[INFO] Number of Unique Subjects: 92\n",
            "[INFO] Split Sizes -> Train: 1683 | Val: 378 | Test: 371\n",
            "\n",
            "[TRAIN] Total Images: 1683\n",
            "  A: 188\n",
            "  B: 189\n",
            "  C: 189\n",
            "  D: 190\n",
            "  E: 189\n",
            "  F: 189\n",
            "  G: 189\n",
            "  H: 189\n",
            "  I: 171\n",
            "\n",
            "[VAL] Total Images: 378\n",
            "  A: 42\n",
            "  B: 42\n",
            "  C: 42\n",
            "  D: 42\n",
            "  E: 42\n",
            "  F: 42\n",
            "  G: 42\n",
            "  H: 42\n",
            "  I: 42\n",
            "\n",
            "[TEST] Total Images: 371\n",
            "  A: 42\n",
            "  B: 42\n",
            "  C: 42\n",
            "  D: 42\n",
            "  E: 41\n",
            "  F: 42\n",
            "  G: 42\n",
            "  H: 42\n",
            "  I: 36\n",
            "\n",
            "[INFO] Split saved to /content/subject_disjoint_split.json\n",
            "[INFO] DataLoaders Ready.\n",
            "[CHECK] Train ∩ Val = 0\n",
            "[CHECK] Train ∩ Test = 0\n",
            "[CHECK] Val ∩ Test = 0\n"
          ]
        }
      ]
    },
    {
      "cell_type": "code",
      "execution_count": null,
      "metadata": {
        "id": "osN3NBhdNtOC"
      },
      "outputs": [],
      "source": [
        "'''\n",
        "PROVIDE YOUR ANSWER BELOW\n",
        "\n",
        "The dataset was first unzipped and its structure was inspected to confirm that it contained gesture images for classes A to I.\n",
        "Each image filename contained a subject ID, which was used to split the data by subject instead of by individual images. A subject-disjoint split was then created with 70% of the\n",
        "subjects assigned to the training set, 15% to the validation set, and 15% to the test set.\n",
        "A 70/15/15 ratio was chosen to keep a balanced amount of data for both validation and testing, while still maintaining enough training samples for the model to learn effectively.\n",
        "This is different from a standard 80/20 split because a separate validation set is needed to tune hyperparameters and prevent overfitting, while also keeping the test set completely\n",
        "unseen for evaluation. Splitting by subject ensures that the model does not see the same hands in both training and testing, which aligns with the assignment requirement. After the split,\n",
        "the data for each set was saved in separate folders and transformed to 224×224 pixels before being loaded using ImageFolder.\n",
        "The final split contained 1,683 training images, 378 validation images, and 371 test images, with balanced class distributions across sets.\n",
        "\n",
        "'''"
      ]
    },
    {
      "cell_type": "markdown",
      "metadata": {
        "id": "5VWX4DGY5gQE"
      },
      "source": [
        "## Part 2. Model Building and Sanity Checking [5pt]\n",
        "\n",
        "### Part (i) Convolutional Network [2pt MODEL]\n",
        "\n",
        "Build a convolutional neural network model that takes the (224x224 RGB) image as input, and predicts the gesture\n",
        "letter. Your model should be a subclass of nn.Module. Explain your choice of neural network architecture: how\n",
        "many layers did you choose? What types of layers did you use? Were they fully-connected or convolutional?\n",
        "What about other decisions like pooling layers, activation functions, number of channels / hidden units?"
      ]
    },
    {
      "cell_type": "code",
      "execution_count": 5,
      "metadata": {
        "id": "2dtx1z5951fS",
        "colab": {
          "base_uri": "https://localhost:8080/"
        },
        "outputId": "2ba76f80-10ef-49a3-b9e3-809192889daf"
      },
      "outputs": [
        {
          "output_type": "stream",
          "name": "stdout",
          "text": [
            "Output shape: torch.Size([2, 9])\n"
          ]
        }
      ],
      "source": [
        "# PART B.2(i) — BUILDING THE CONVOLUTIONAL NEURAL NETWORK MODEL\n",
        "# This model took 224x224 RGB images as input and produced logits for 9 gesture classes (A–I)\n",
        "\n",
        "import torch\n",
        "import torch.nn as nn\n",
        "import torch.nn.functional as F\n",
        "\n",
        "class GestureCNN(nn.Module):\n",
        "    def __init__(self, dropout_p: float = 0.4):\n",
        "        super().__init__()\n",
        "        # Block 1: Applied Conv → BN → ReLU → MaxPool (224x224x3 → 112x112x32)\n",
        "        self.conv1 = nn.Conv2d(3, 32, kernel_size=3, padding=1)\n",
        "        self.bn1   = nn.BatchNorm2d(32)\n",
        "\n",
        "        # Block 2: Applied Conv → BN → ReLU → MaxPool (112x112x32 → 56x56x64)\n",
        "        self.conv2 = nn.Conv2d(32, 64, kernel_size=3, padding=1)\n",
        "        self.bn2   = nn.BatchNorm2d(64)\n",
        "\n",
        "        # Block 3: Applied Conv → BN → ReLU → MaxPool (56x56x64 → 28x28x128)\n",
        "        self.conv3 = nn.Conv2d(64, 128, kernel_size=3, padding=1)\n",
        "        self.bn3   = nn.BatchNorm2d(128)\n",
        "\n",
        "        # Used MaxPooling to reduce spatial size and Global Average Pooling to flatten to 128-D\n",
        "        self.pool  = nn.MaxPool2d(2, 2)\n",
        "        self.gap   = nn.AdaptiveAvgPool2d(1)\n",
        "\n",
        "        # Defined Fully Connected Layers for final classification (128 → 128 → 9)\n",
        "        self.fc1   = nn.Linear(128, 128)\n",
        "        self.drop  = nn.Dropout(dropout_p)\n",
        "        self.fc2   = nn.Linear(128, 9)\n",
        "\n",
        "    def forward(self, x):\n",
        "        # Passed input through each block\n",
        "        x = self.pool(F.relu(self.bn1(self.conv1(x))))  # Block 1\n",
        "        x = self.pool(F.relu(self.bn2(self.conv2(x))))  # Block 2\n",
        "        x = self.pool(F.relu(self.bn3(self.conv3(x))))  # Block 3\n",
        "\n",
        "        # Applied Global Average Pooling and flattened output\n",
        "        x = self.gap(x).flatten(1)\n",
        "\n",
        "        # Passed through FC layers with ReLU and Dropout\n",
        "        x = F.relu(self.fc1(x))\n",
        "        x = self.drop(x)\n",
        "        x = self.fc2(x)\n",
        "        return x\n",
        "\n",
        "# Quick shape check to verify output dimension was correct\n",
        "if __name__ == \"__main__\":\n",
        "    model = GestureCNN()\n",
        "    out = model(torch.randn(2, 3, 224, 224))\n",
        "    print(\"Output shape:\", out.shape)\n"
      ]
    },
    {
      "cell_type": "code",
      "execution_count": null,
      "metadata": {
        "id": "h5TMfSuiNqbJ"
      },
      "outputs": [],
      "source": [
        "'''\n",
        "PROVIDE YOUR ANSWER BELOW\n",
        "\n",
        "The model used is a custom convolutional neural network built as a subclass of nn.Module. It takes 224×224\n",
        "RGB images as input and predicts one of 9 gesture classes.\n",
        "The architecture consists of three convolutional layers followed by two fully connected layers.\n",
        "Each convolutional layer uses 3×3 filters, with the number of channels\n",
        "increasing from 32 to 64 to 128 as the network goes deeper.\n",
        "This allows the model to learn simple features in the early layers and more complex patterns in later layers.\n",
        "\n",
        "After each convolutional layer, ReLU activation is applied to introduce non-linearity,\n",
        "and a 2×2 max pooling layer is used to reduce the spatial dimensions by half.\n",
        "This helps control the number of parameters and makes the network more efficient. After the final convolution block,\n",
        "global average pooling is applied to reduce the 28×28×128 feature map into a 128-dimensional vector.\n",
        "This avoids flattening a large feature map and keeps the fully connected layers smaller and easier to train.\n",
        "\n",
        "The classifier consists of two fully connected layers with 128 hidden units and dropout for regularization.\n",
        "The final layer outputs 9 logits, one for each gesture class (A–I).\n",
        "The design is simple but effective: convolutional layers extract spatial features,\n",
        "ReLU provides non-linearity, max pooling reduces size, and the fully connected layers perform the classification.\n",
        "\n",
        "'''"
      ]
    },
    {
      "cell_type": "markdown",
      "metadata": {
        "id": "XeGvelvb515e"
      },
      "source": [
        "### Part (ii) Training Code [2pt MODEL]\n",
        "\n",
        "Write code that trains your neural network given some training data. Your training code should make it easy\n",
        "to tweak the usual hyperparameters, like batch size, learning rate, and the model object itself. Make sure\n",
        "that you are checkpointing your models from time to time (the frequency is up to you). Explain your choice\n",
        "of loss function and optimizer."
      ]
    },
    {
      "cell_type": "code",
      "execution_count": null,
      "metadata": {
        "id": "Zs8eYG9Oa7Gs"
      },
      "outputs": [],
      "source": [
        "# TO BE COMPLETED\n",
        "\n",
        "\n",
        "\n"
      ]
    },
    {
      "cell_type": "code",
      "execution_count": null,
      "metadata": {
        "id": "kQNirDVYa7Gt"
      },
      "outputs": [],
      "source": [
        "'''\n",
        "PROVIDE YOUR ANSWER BELOW\n",
        "\n",
        "\n",
        "\n",
        "\n",
        "\n",
        "\n",
        "'''"
      ]
    },
    {
      "cell_type": "markdown",
      "metadata": {
        "id": "bk1RNgAj54rZ"
      },
      "source": [
        "### Part (iii) “Overfit” to a Small Dataset - [1pt MODEL]\n",
        "\n",
        "One way to sanity check our neural network model and training code is to check whether the model is capable\n",
        "of “overfitting” or “memorizing” a small dataset. A properly constructed CNN with correct training code\n",
        "should be able to memorize the answers to a small number of images quickly.\n",
        "\n",
        "Construct a small dataset (e.g. just the images that you have collected). Then show that your model and\n",
        "training code is capable of memorizing the labels of this small data set.\n",
        "\n",
        "With a large batch size (e.g. the entire small dataset) and learning rate that is not too high, you should be\n",
        "able to obtain a 100% training accuracy on that small dataset relatively quickly (within 200 iterations)."
      ]
    },
    {
      "cell_type": "code",
      "execution_count": null,
      "metadata": {
        "id": "L7rSLxyWbCN3"
      },
      "outputs": [],
      "source": [
        "# TO BE COMPLETED\n",
        "\n",
        "\n",
        "\n"
      ]
    },
    {
      "cell_type": "markdown",
      "metadata": {
        "id": "nvDLw-Vz6eVS"
      },
      "source": [
        "## Part 3. Hyperparameter Search [7pt]\n",
        "\n",
        "### Part (i) - [2pt EXPLORATORY]\n",
        "\n",
        "Select three hyperparameters to tune, one from each of the following categories:\n",
        "\n",
        "1. Optimizer-related (e.g., learning rate, weight decay)\n",
        "\n",
        "2. Architecture-related (e.g., number of filters, dropout rate, number of output channels)\n",
        "\n",
        "3. Training Process (e.g., number of epochs, batch size)\n",
        "\n",
        "Briefly justify why you chose these three."
      ]
    },
    {
      "cell_type": "code",
      "execution_count": null,
      "metadata": {
        "id": "Q04SaRRjbFCR"
      },
      "outputs": [],
      "source": [
        "'''\n",
        "PROVIDE YOUR ANSWER BELOW\n",
        "\n",
        "\n",
        "\n",
        "\n",
        "\n",
        "\n",
        "'''"
      ]
    },
    {
      "cell_type": "markdown",
      "metadata": {
        "id": "zeD6EzPB6kSW"
      },
      "source": [
        "### Part (ii) - [1pt MODEL]\n",
        "\n",
        "Tune the hyperparameters you listed in Part (i), trying as many values as you need to until you feel satisfied\n",
        "that you are getting a good model. Plot the training curve of at least 4 different hyperparameter settings."
      ]
    },
    {
      "cell_type": "code",
      "execution_count": null,
      "metadata": {
        "id": "rDRiNGW8bJ-y"
      },
      "outputs": [],
      "source": [
        "# TO BE COMPLETED\n",
        "\n",
        "\n",
        "\n"
      ]
    },
    {
      "cell_type": "markdown",
      "metadata": {
        "id": "H93iN5_l60BO"
      },
      "source": [
        "### Part (iii) - [2pt DISCUSSION]\n",
        "Choose the best model out of all the ones that you have trained. Justify your choice."
      ]
    },
    {
      "cell_type": "code",
      "execution_count": null,
      "metadata": {
        "id": "eJHwissDbNMD"
      },
      "outputs": [],
      "source": [
        "'''\n",
        "PROVIDE YOUR ANSWER BELOW\n",
        "\n",
        "\n",
        "\n",
        "\n",
        "\n",
        "\n",
        "'''"
      ]
    },
    {
      "cell_type": "markdown",
      "metadata": {
        "id": "QzNA5oup67JO"
      },
      "source": [
        "### Part (iv) - [2pt RESULTS]\n",
        "Report the test accuracy of your best model. You should only do this step once and prior to this step you should have only used the training and validation data.\n",
        "\n",
        "Additionally, provide a confusion matrix. Using the confusion matrix values, you must calculate and report the precision, recall, and F1-score for each letter class and report them in a table. Identify the two gestures that your model confuses most often and hypothesize why this might be the case based on their visual similarity."
      ]
    },
    {
      "cell_type": "code",
      "execution_count": null,
      "metadata": {
        "id": "HL_gly-PbOyD"
      },
      "outputs": [],
      "source": [
        "# TO BE COMPLETED\n",
        "\n",
        "\n",
        "\n"
      ]
    },
    {
      "cell_type": "code",
      "execution_count": null,
      "metadata": {
        "id": "C6R_NNH_bOyN"
      },
      "outputs": [],
      "source": [
        "'''\n",
        "PROVIDE YOUR ANSWER BELOW\n",
        "\n",
        "\n",
        "\n",
        "\n",
        "\n",
        "\n",
        "'''"
      ]
    },
    {
      "cell_type": "markdown",
      "metadata": {
        "id": "Wrem-iXV6_Bz"
      },
      "source": [
        "## Part 4. Transfer Learning [8pt]\n",
        "For many image classification tasks, it is generally not a good idea to train a very large deep neural network\n",
        "model from scratch due to the enormous compute requirements and lack of sufficient amounts of training\n",
        "data.\n",
        "\n",
        "One of the better options is to try using an existing model that performs a similar task to the one you need\n",
        "to solve. This method of utilizing a pre-trained network for other similar tasks is broadly termed **Transfer\n",
        "Learning**. In this assignment, we will use Transfer Learning to extract features from the hand gesture\n",
        "images. Then, train a smaller network to use these features as input and classify the hand gestures.\n",
        "\n",
        "As you have learned from the CNN lecture, convolution layers extract various features from the images which\n",
        "get utilized by the fully connected layers for correct classification. AlexNet architecture played a pivotal\n",
        "role in establishing Deep Neural Nets as a go-to tool for image classification problems and we will use an\n",
        "ImageNet pre-trained AlexNet model to extract features in this assignment."
      ]
    },
    {
      "cell_type": "markdown",
      "metadata": {
        "id": "rWdQJz4Q7O2F"
      },
      "source": [
        "### Part (i) - [2pt EXPLORATORY]\n",
        "Here is the code to load the AlexNet network, with pretrained weights. When you first run the code, PyTorch\n",
        "will download the pretrained weights from the internet."
      ]
    },
    {
      "cell_type": "code",
      "execution_count": null,
      "metadata": {
        "id": "BJKcTW9C7TZk"
      },
      "outputs": [],
      "source": [
        "import torchvision.models\n",
        "alexnet = torchvision.models.alexnet(pretrained=True)"
      ]
    },
    {
      "cell_type": "markdown",
      "metadata": {
        "id": "NQ0GZYaP7VAR"
      },
      "source": [
        "The alexnet model is split up into two components: *alexnet.features* and *alexnet.classifier*. The\n",
        "first neural network component, *alexnet.features*, is used to compute convolutional features, which are\n",
        "taken as input in *alexnet.classifier*.\n",
        "\n",
        "The neural network alexnet.features expects an image tensor of shape Nx3x224x224 as input and it will\n",
        "output a tensor of shape Nx256x6x6 . (N = batch size).\n",
        "\n",
        "Compute the AlexNet features for each of your training, validation, and test data. Here is an example code\n",
        "snippet showing how you can compute the AlexNet features for some images (your actual code might be\n",
        "different):"
      ]
    },
    {
      "cell_type": "code",
      "execution_count": null,
      "metadata": {
        "id": "oX7SjVdB7XAE"
      },
      "outputs": [],
      "source": [
        "# img = ... a PyTorch tensor with shape [N,3,224,224] containing hand images ...\n",
        "features = alexnet.features(img)"
      ]
    },
    {
      "cell_type": "markdown",
      "metadata": {
        "id": "DYcjHg_A7cCM"
      },
      "source": [
        "**Save the computed features**. You will be using these features as input to your neural network in Part\n",
        "(ii), and you do not want to re-compute the features every time. Instead, run *alexnet.features* once for\n",
        "each image, and save the result."
      ]
    },
    {
      "cell_type": "code",
      "execution_count": null,
      "metadata": {
        "id": "QDQr5eBybSOL"
      },
      "outputs": [],
      "source": [
        "# TO BE COMPLETED\n",
        "\n",
        "\n",
        "\n"
      ]
    },
    {
      "cell_type": "markdown",
      "metadata": {
        "id": "OFWvvhFN73qY"
      },
      "source": [
        "### Part (ii) - [2pt MODEL]\n",
        "Build a new classifier to attach to the AlexNet feature extractor. Your model must use the following sequence of layers:\n",
        "\n",
        "AlexNet feature → Flatten → Linear → ReLU → Dropout → Linear\n",
        "\n",
        "Use a dropout probability of 20%; this value can be tuned in the next part. Justify your choice of the Linear layer sizes.\n",
        "\n",
        "Here is an example of how your model may be called:"
      ]
    },
    {
      "cell_type": "code",
      "execution_count": null,
      "metadata": {
        "id": "oVTuHUeV78-U"
      },
      "outputs": [],
      "source": [
        "# features = ... load precomputed alexnet.features(img) ...\n",
        "output = model(features)\n",
        "prob = F.softmax(output)"
      ]
    },
    {
      "cell_type": "code",
      "execution_count": null,
      "metadata": {
        "id": "k0fiyAZVbapt"
      },
      "outputs": [],
      "source": [
        "# TO BE COMPLETED\n",
        "\n",
        "\n",
        "\n"
      ]
    },
    {
      "cell_type": "code",
      "execution_count": null,
      "metadata": {
        "id": "P7FVHuYkbaqF"
      },
      "outputs": [],
      "source": [
        "'''\n",
        "PROVIDE YOUR ANSWER BELOW\n",
        "\n",
        "\n",
        "\n",
        "\n",
        "\n",
        "\n",
        "'''"
      ]
    },
    {
      "cell_type": "markdown",
      "metadata": {
        "id": "wVAGuURu7-9q"
      },
      "source": [
        "### Part (iii) - [1pt MODEL]\n",
        "Train your new network, including any hyperparameter tuning. Plot and submit the training curve of your\n",
        "best model only.\n",
        "\n",
        "Note: Depending on how you are caching (saving) your AlexNet features, PyTorch might still be tracking\n",
        "updates to the **AlexNet weights**, which we are not tuning. One workaround is to convert your AlexNet\n",
        "feature tensor into a numpy array, and then back into a PyTorch tensor."
      ]
    },
    {
      "cell_type": "code",
      "execution_count": null,
      "metadata": {
        "id": "JCmiH11x7-q1"
      },
      "outputs": [],
      "source": [
        "tensor = torch.from_numpy(tensor.detach().numpy())"
      ]
    },
    {
      "cell_type": "code",
      "execution_count": null,
      "metadata": {
        "id": "hbGXEv_9bd6_"
      },
      "outputs": [],
      "source": [
        "# TO BE COMPLETED\n",
        "\n",
        "\n",
        "\n"
      ]
    },
    {
      "cell_type": "markdown",
      "metadata": {
        "id": "hQ2tvqJ68Mqb"
      },
      "source": [
        "### Part (iv) - [2pt RESULTS]\n",
        "Report the test accuracy of your best model. How does the test accuracy compare to Part 3(iv) without transfer learning?"
      ]
    },
    {
      "cell_type": "code",
      "execution_count": null,
      "metadata": {
        "id": "a7TJTa_qbfrR"
      },
      "outputs": [],
      "source": [
        "# TO BE COMPLETED\n",
        "\n",
        "\n",
        "\n"
      ]
    },
    {
      "cell_type": "code",
      "execution_count": null,
      "metadata": {
        "id": "8Fyh08uCbfrm"
      },
      "outputs": [],
      "source": [
        "'''\n",
        "PROVIDE YOUR ANSWER BELOW\n",
        "\n",
        "\n",
        "\n",
        "\n",
        "\n",
        "\n",
        "'''"
      ]
    },
    {
      "cell_type": "markdown",
      "metadata": {
        "id": "XrDPb0orGZYJ"
      },
      "source": [
        "## Part 5. Testing on New Data [14pt]\n",
        "As a final step in testing we will be revisiting the sample images that you had collected and submitted with your assignment. These sample images should be untouched and will be used to demonstrate how well your model works at identifying your hand guestures.\n",
        "\n"
      ]
    },
    {
      "cell_type": "markdown",
      "metadata": {
        "id": "IsunI_7ILqnS"
      },
      "source": [
        "### Part (i) - [2pt EXPLORATORY]\n",
        "Load and process the hand gesture images you had collected so that they can easily be evaulated by your model."
      ]
    },
    {
      "cell_type": "code",
      "execution_count": null,
      "metadata": {
        "id": "uSBa_pDmblQZ"
      },
      "outputs": [],
      "source": [
        "# TO BE COMPLETED\n",
        "\n",
        "\n",
        "\n"
      ]
    },
    {
      "cell_type": "markdown",
      "metadata": {
        "id": "8z7JBhPmLqnS"
      },
      "source": [
        "### Part (ii) - [5pt RESULTS]\n",
        "Using the best transfer learning model developed in Part 4. Report the test accuracy on your sample images and how it compares to the test accuracy obtained in Part 4(iv)? Also, use your best model from Part 3 to report the test accuracy on the new sample images and how it compares to the test accuracy obtained in Part 3(iv). You should present your results in a pandas DataFrame.\n",
        "\n",
        "This question will also be evaluated on the overal performance achieved."
      ]
    },
    {
      "cell_type": "code",
      "execution_count": null,
      "metadata": {
        "id": "lfT77JP3bpud"
      },
      "outputs": [],
      "source": [
        "# TO BE COMPLETED\n",
        "\n",
        "\n",
        "\n"
      ]
    },
    {
      "cell_type": "markdown",
      "metadata": {
        "id": "IBdVwrmGmdS0"
      },
      "source": [
        "### Part (iii) - [5pt DISCUSSION]\n",
        "How well did your models do for the different hand guestures? Provide an explanation for why you think your models performed the way it did? Be sure to compare the results of training, validation, testing, and also on the new data represented by your own hand gestures.\n",
        "\n",
        "How well would this model perform if you were to deploy it in the real-world? List some things you could do to improve the model performance."
      ]
    },
    {
      "cell_type": "code",
      "execution_count": null,
      "metadata": {
        "id": "KD5YZTfBbpu1"
      },
      "outputs": [],
      "source": [
        "'''\n",
        "PROVIDE YOUR ANSWER BELOW\n",
        "\n",
        "\n",
        "\n",
        "\n",
        "\n",
        "\n",
        "'''"
      ]
    },
    {
      "cell_type": "markdown",
      "metadata": {
        "id": "lmPjEEukCD-F"
      },
      "source": [
        "### Part (iv) - [2pt DISCUSSION]\n",
        "Reflect on the ethical implications of deploying a hand gesture recognition model in real-world applications. What are some potential biases that could arise in your model, and how might they impact different user groups?\n",
        "\n",
        "Discuss measures you can take to identify and mitigate these biases during the development and deployment phases. Consider aspects such as data collection, model training, and user feedback."
      ]
    },
    {
      "cell_type": "code",
      "execution_count": null,
      "metadata": {
        "id": "jNH95ZVHCD-F"
      },
      "outputs": [],
      "source": [
        "'''\n",
        "PROVIDE YOUR ANSWER BELOW\n",
        "\n",
        "\n",
        "\n",
        "\n",
        "\n",
        "\n",
        "'''"
      ]
    },
    {
      "cell_type": "markdown",
      "metadata": {
        "id": "9SMqukISPXen"
      },
      "source": [
        "# PART C (Optional) - Bonus Challenge!\n",
        "\n",
        "This is an optional exercise for those that finish the assignment early and would like to take on some additional challenging task.\n",
        "\n",
        "For this bonus challenge you are asked to explore different techniques to further improve the model for more realistic scenarios where the hands may be in front of various backgrounds, be taken at different scales, rotations, and positions in the image. To build a superior image classification model you can complete one or all of the following tasks.\n",
        "\n",
        "Tasks:\n",
        "\n",
        "1. Test your best models (with or without transfer learning) on hand gestures images with backgrounds that are not clean and smooth. You can take your own hand gesture images, or find ones online to test your model. Comment on the performance of your model.\n",
        "2. Generated additional data by performing data augmentation to replace the clean, smooth backgrounds with backgrounds with different textures. Do this on all your training, validation, and test data. This task can be done manually (could take a long time) or you can implement code that can automate the task. For Example, one approach you could take to automate this task is to use pretrained image segmentation tools to identify the hands in the images and crop them out and put them onto other backgrounds.\n",
        "3. Improve on your data augmentation by applying scale, rotation, and translation transformations on different backgrounds.\n",
        "4. Compare the performance of your best CNN models (with and without transfoer learning) trained with data augmentation to the results in 1. where you did not train on images with data augmentation.\n",
        "5. Implement one of many region proposal tools to detect hand gestures in image frames and put a bounding box around the region with the highest confidence. You can use pretrained YOLO models, or a region proposal tool from openCV.\n",
        "6. Create a short video demonstration how you can use your hand gesture recognition model to communicate a message using hand gestures.\n",
        "\n",
        "Bonus marks will be provided based on the number of steps completed. Summarize below your results and anything intersting you learned from the steps that you completed. Bonus marks cannot be accumulated beyond the maximum assignment grade."
      ]
    },
    {
      "cell_type": "code",
      "execution_count": null,
      "metadata": {
        "id": "y7RdCepbPbya"
      },
      "outputs": [],
      "source": [
        "# TO BE COMPLETED\n",
        "\n",
        "\n"
      ]
    },
    {
      "cell_type": "code",
      "execution_count": null,
      "metadata": {
        "id": "l-16xaXFPcql"
      },
      "outputs": [],
      "source": [
        "'''\n",
        "PROVIDE YOUR ANSWER BELOW\n",
        "\n",
        "\n",
        "\n",
        "\n",
        "\n",
        "\n",
        "'''"
      ]
    },
    {
      "cell_type": "markdown",
      "metadata": {
        "id": "FYwI4RmFS2RB"
      },
      "source": [
        "### Saving to HTML\n",
        "Detailed instructions for saving to HTML can be found <a href=\"https://stackoverflow.com/questions/53460051/convert-ipynb-notebook-to-html-in-google-colab/64487858#64487858\">here</a>. Provided below are a summary of the instructions:\n",
        "\n",
        "(1) download your ipynb file by clicking on File->Download.ipynb\n",
        "\n",
        "(2) reupload your file to the temporary Google Colab storage (you can access the temporary storage from the tab to the left)\n",
        "\n",
        "(3) run the following:"
      ]
    },
    {
      "cell_type": "code",
      "execution_count": null,
      "metadata": {
        "id": "2TrsqdNgS5ex"
      },
      "outputs": [],
      "source": [
        "%%shell\n",
        "jupyter nbconvert --to html /content/A2_Hand_Gesture_Recognition.ipynb"
      ]
    },
    {
      "cell_type": "markdown",
      "metadata": {
        "id": "nuXhlFlPTY7F"
      },
      "source": [
        "(4) the html file will be available for download in the temporary Google Colab storage\n",
        "\n",
        "(5) review the html file and make sure all the results are visible before submitting your assignment to Quercus"
      ]
    },
    {
      "cell_type": "markdown",
      "metadata": {
        "id": "cLzCpNFMhgxO"
      },
      "source": [
        "# Assignment Grading Rubric\n",
        "The grading of the assignment will be based on the following categories:\n",
        "\n",
        "(0) **5 Pt - DATA** Generating new data to evaluate your model.\n",
        "\n",
        "(1) **9 Pt - EXPLORATORY QUESTIONS** These are basic questions that in most cases can be answered without requiring a fully working and trained neural network model. For example, data loading, processing and visualization, summary statistics, data exploration, model and training setup, etc.\n",
        "\n",
        "(2) **9 Pt - MODEL** Student has successfully implemented all the required neural network models and has demonstrated successful training of the model without any errors.\n",
        "\n",
        "(3) **9 Pt - RESULT** Students are evaluated based on the results achieved in comparison to the expected results of the assignment.\n",
        "\n",
        "(4) **9 Pt - DISCUSSION QUESTIONS** Student demonstrated understanding beyond the basic exploratory questions, can answer some of the more challenging questions, and provide arguments for their model selection decisions.\n",
        "\n",
        "(5) **9 Pt - COMMUNICATION** Student has provided a quality submission that is easy to read without too many unnecessary output statements that distract the reading of the document. The code has been well commented and all the answers are communicated clearly and concisely.\n",
        "\n",
        "(6) **5 Pt - BONUS** Student has completed the assignment and has taken on the challenging bonus tasks listed in PART C. The student has demonstrated a good understanding of all aspects of the assignment and has exceeded expectations for the assignment.\n",
        "\n",
        "\n",
        "\n",
        "**TOTAL GRADE = _____ of 50 Pts**"
      ]
    }
  ],
  "metadata": {
    "colab": {
      "provenance": [],
      "include_colab_link": true
    },
    "kernelspec": {
      "display_name": "Python 3",
      "language": "python",
      "name": "python3"
    },
    "language_info": {
      "codemirror_mode": {
        "name": "ipython",
        "version": 3
      },
      "file_extension": ".py",
      "mimetype": "text/x-python",
      "name": "python",
      "nbconvert_exporter": "python",
      "pygments_lexer": "ipython3",
      "version": "3.7.4"
    }
  },
  "nbformat": 4,
  "nbformat_minor": 0
}